{
  "nbformat": 4,
  "nbformat_minor": 0,
  "metadata": {
    "colab": {
      "name": "laughter-detection.ipynb",
      "provenance": [],
      "include_colab_link": true
    },
    "kernelspec": {
      "name": "python3",
      "display_name": "Python 3"
    },
    "language_info": {
      "name": "python"
    },
    "accelerator": "GPU"
  },
  "cells": [
    {
      "cell_type": "markdown",
      "metadata": {
        "id": "view-in-github",
        "colab_type": "text"
      },
      "source": [
        "<a href=\"https://colab.research.google.com/github/ddman1101/Auto-DJ/blob/master/laughter-detection-interactive.ipynb\" target=\"_parent\"><img src=\"https://colab.research.google.com/assets/colab-badge.svg\" alt=\"Open In Colab\"/></a>"
      ]
    },
    {
      "cell_type": "code",
      "metadata": {
        "id": "Y-tQtobBO6kf",
        "outputId": "b23cee3a-cbca-4b80-f2cf-0d61e431f877",
        "colab": {
          "base_uri": "https://localhost:8080/"
        }
      },
      "source": [
        "#@title Install Software\n",
        "\n",
        "!git clone https://github.com/jrgillick/laughter-detection.git\n",
        "\n",
        "%cd laughter-detection/\n",
        "!pip install tgt\n",
        "!pip install pyloudnorm\n",
        "!pip install praatio==3.8.0\n",
        "!pip install tensorboardX==1.9\n",
        "\n",
        "from google.colab import files"
      ],
      "execution_count": 1,
      "outputs": [
        {
          "output_type": "stream",
          "name": "stdout",
          "text": [
            "fatal: destination path 'laughter-detection' already exists and is not an empty directory.\n",
            "/content/laughter-detection\n",
            "Requirement already satisfied: tgt in /usr/local/lib/python3.11/dist-packages (1.5)\n",
            "Requirement already satisfied: pyloudnorm in /usr/local/lib/python3.11/dist-packages (0.1.1)\n",
            "Requirement already satisfied: scipy>=1.0.1 in /usr/local/lib/python3.11/dist-packages (from pyloudnorm) (1.14.1)\n",
            "Requirement already satisfied: numpy>=1.14.2 in /usr/local/lib/python3.11/dist-packages (from pyloudnorm) (2.0.2)\n",
            "Requirement already satisfied: future>=0.16.0 in /usr/local/lib/python3.11/dist-packages (from pyloudnorm) (1.0.0)\n",
            "Requirement already satisfied: praatio==3.8.0 in /usr/local/lib/python3.11/dist-packages (3.8.0)\n",
            "Requirement already satisfied: tensorboardX==1.9 in /usr/local/lib/python3.11/dist-packages (1.9)\n",
            "Requirement already satisfied: numpy in /usr/local/lib/python3.11/dist-packages (from tensorboardX==1.9) (2.0.2)\n",
            "Requirement already satisfied: protobuf>=3.8.0 in /usr/local/lib/python3.11/dist-packages (from tensorboardX==1.9) (5.29.4)\n",
            "Requirement already satisfied: six in /usr/local/lib/python3.11/dist-packages (from tensorboardX==1.9) (1.17.0)\n"
          ]
        }
      ]
    },
    {
      "cell_type": "code",
      "source": [
        "# 把舊 tensorboardX 移除\n",
        "!pip uninstall -y tensorboardX\n",
        "\n",
        "# 安裝最新版 (2.6)\n",
        "!pip install -q tensorboardX==2.6\n"
      ],
      "metadata": {
        "id": "2D-ELHF6olD6",
        "outputId": "8c57ee67-1912-484b-84a0-62614e63d9e8",
        "colab": {
          "base_uri": "https://localhost:8080/"
        }
      },
      "execution_count": 4,
      "outputs": [
        {
          "output_type": "stream",
          "name": "stdout",
          "text": [
            "Found existing installation: tensorboardX 2.6\n",
            "Uninstalling tensorboardX-2.6:\n",
            "  Successfully uninstalled tensorboardX-2.6\n"
          ]
        }
      ]
    },
    {
      "cell_type": "markdown",
      "metadata": {
        "id": "xxyVpPeGgHiL"
      },
      "source": [
        "# **GPU is not enabled by default**\n",
        "\n",
        "In order to load the model without errors:\n",
        "\n",
        "Go to Runtime > Change runtime type > Hardware accelerator > GPU"
      ]
    },
    {
      "cell_type": "code",
      "metadata": {
        "id": "8MsgjqOpPJZI",
        "colab": {
          "base_uri": "https://localhost:8080/"
        },
        "outputId": "48f2c00c-35ab-49cf-b80c-e3c5bc72e5a9"
      },
      "source": [
        "#@title Setup and Load Model\n",
        "\n",
        "# %cd laughter-detection/\n",
        "from google.colab import files\n",
        "import os, sys, pickle, time, librosa, argparse, torch, numpy as np, pandas as pd, scipy\n",
        "from tqdm import tqdm\n",
        "import tgt\n",
        "sys.path.append('./utils/')\n",
        "import laugh_segmenter\n",
        "import models, configs\n",
        "import dataset_utils, audio_utils, data_loaders, torch_utils\n",
        "from tqdm import tqdm\n",
        "from torch import optim, nn\n",
        "from functools import partial\n",
        "from distutils.util import strtobool\n",
        "\n",
        "sample_rate = 8000\n",
        "\n",
        "model_path = 'checkpoints/comparisons/resnet_with_augmentation_trained_on_audioset'\n",
        "config = configs.CONFIG_MAP['resnet_with_augmentation']\n",
        "\n",
        "device = torch.device('cuda' if torch.cuda.is_available() else 'cpu')\n",
        "print(f\"Using device {device}\")\n",
        "\n",
        "##### Load the Model\n",
        "\n",
        "model = config['model'](dropout_rate=0.0, linear_layer_size=config['linear_layer_size'], filter_sizes=config['filter_sizes'])\n",
        "feature_fn = config['feature_fn']\n",
        "model.set_device(device)\n",
        "\n",
        "# if os.path.exists(model_path):\n",
        "#     torch_utils.load_checkpoint(model_path+'/best.pth.tar', model)\n",
        "#     model.eval()\n",
        "# else:\n",
        "#     raise Exception(f\"Model checkpoint not found at {model_path}\")\n",
        "\n",
        "if os.path.exists(model_path):\n",
        "    # ① 直接用 torch.load 並指定 weights_only=False\n",
        "    ckpt = torch.load(\n",
        "        os.path.join(model_path, \"best.pth.tar\"),\n",
        "        weights_only=False,        # 關鍵參數\n",
        "        map_location=device        # 讓 checkpoint 自動搬到 GPU 或 CPU\n",
        "    )\n",
        "\n",
        "    # ② 將權重灌進模型\n",
        "    model.load_state_dict(ckpt['state_dict'])\n",
        "    model.eval()\n",
        "else:\n",
        "    raise FileNotFoundError(f\"Model checkpoint not found at {model_path}\")"
      ],
      "execution_count": 8,
      "outputs": [
        {
          "output_type": "stream",
          "name": "stdout",
          "text": [
            "Using device cuda\n",
            "training with dropout=0.0\n"
          ]
        }
      ]
    },
    {
      "cell_type": "code",
      "metadata": {
        "id": "uoFF6je1PNuU",
        "outputId": "9de18d38-3c2e-4efd-ddaf-ef55dc09e1e2",
        "colab": {
          "base_uri": "https://localhost:8080/",
          "height": 75
        }
      },
      "source": [
        "#@title Upload an audio file\n",
        "\n",
        "uploaded = files.upload()\n",
        "audio_path = list(uploaded.keys())[0]\n"
      ],
      "execution_count": 9,
      "outputs": [
        {
          "output_type": "display_data",
          "data": {
            "text/plain": [
              "<IPython.core.display.HTML object>"
            ],
            "text/html": [
              "\n",
              "     <input type=\"file\" id=\"files-9a973e6b-5087-4bdc-9de7-8db3724653e2\" name=\"files[]\" multiple disabled\n",
              "        style=\"border:none\" />\n",
              "     <output id=\"result-9a973e6b-5087-4bdc-9de7-8db3724653e2\">\n",
              "      Upload widget is only available when the cell has been executed in the\n",
              "      current browser session. Please rerun this cell to enable.\n",
              "      </output>\n",
              "      <script>// Copyright 2017 Google LLC\n",
              "//\n",
              "// Licensed under the Apache License, Version 2.0 (the \"License\");\n",
              "// you may not use this file except in compliance with the License.\n",
              "// You may obtain a copy of the License at\n",
              "//\n",
              "//      http://www.apache.org/licenses/LICENSE-2.0\n",
              "//\n",
              "// Unless required by applicable law or agreed to in writing, software\n",
              "// distributed under the License is distributed on an \"AS IS\" BASIS,\n",
              "// WITHOUT WARRANTIES OR CONDITIONS OF ANY KIND, either express or implied.\n",
              "// See the License for the specific language governing permissions and\n",
              "// limitations under the License.\n",
              "\n",
              "/**\n",
              " * @fileoverview Helpers for google.colab Python module.\n",
              " */\n",
              "(function(scope) {\n",
              "function span(text, styleAttributes = {}) {\n",
              "  const element = document.createElement('span');\n",
              "  element.textContent = text;\n",
              "  for (const key of Object.keys(styleAttributes)) {\n",
              "    element.style[key] = styleAttributes[key];\n",
              "  }\n",
              "  return element;\n",
              "}\n",
              "\n",
              "// Max number of bytes which will be uploaded at a time.\n",
              "const MAX_PAYLOAD_SIZE = 100 * 1024;\n",
              "\n",
              "function _uploadFiles(inputId, outputId) {\n",
              "  const steps = uploadFilesStep(inputId, outputId);\n",
              "  const outputElement = document.getElementById(outputId);\n",
              "  // Cache steps on the outputElement to make it available for the next call\n",
              "  // to uploadFilesContinue from Python.\n",
              "  outputElement.steps = steps;\n",
              "\n",
              "  return _uploadFilesContinue(outputId);\n",
              "}\n",
              "\n",
              "// This is roughly an async generator (not supported in the browser yet),\n",
              "// where there are multiple asynchronous steps and the Python side is going\n",
              "// to poll for completion of each step.\n",
              "// This uses a Promise to block the python side on completion of each step,\n",
              "// then passes the result of the previous step as the input to the next step.\n",
              "function _uploadFilesContinue(outputId) {\n",
              "  const outputElement = document.getElementById(outputId);\n",
              "  const steps = outputElement.steps;\n",
              "\n",
              "  const next = steps.next(outputElement.lastPromiseValue);\n",
              "  return Promise.resolve(next.value.promise).then((value) => {\n",
              "    // Cache the last promise value to make it available to the next\n",
              "    // step of the generator.\n",
              "    outputElement.lastPromiseValue = value;\n",
              "    return next.value.response;\n",
              "  });\n",
              "}\n",
              "\n",
              "/**\n",
              " * Generator function which is called between each async step of the upload\n",
              " * process.\n",
              " * @param {string} inputId Element ID of the input file picker element.\n",
              " * @param {string} outputId Element ID of the output display.\n",
              " * @return {!Iterable<!Object>} Iterable of next steps.\n",
              " */\n",
              "function* uploadFilesStep(inputId, outputId) {\n",
              "  const inputElement = document.getElementById(inputId);\n",
              "  inputElement.disabled = false;\n",
              "\n",
              "  const outputElement = document.getElementById(outputId);\n",
              "  outputElement.innerHTML = '';\n",
              "\n",
              "  const pickedPromise = new Promise((resolve) => {\n",
              "    inputElement.addEventListener('change', (e) => {\n",
              "      resolve(e.target.files);\n",
              "    });\n",
              "  });\n",
              "\n",
              "  const cancel = document.createElement('button');\n",
              "  inputElement.parentElement.appendChild(cancel);\n",
              "  cancel.textContent = 'Cancel upload';\n",
              "  const cancelPromise = new Promise((resolve) => {\n",
              "    cancel.onclick = () => {\n",
              "      resolve(null);\n",
              "    };\n",
              "  });\n",
              "\n",
              "  // Wait for the user to pick the files.\n",
              "  const files = yield {\n",
              "    promise: Promise.race([pickedPromise, cancelPromise]),\n",
              "    response: {\n",
              "      action: 'starting',\n",
              "    }\n",
              "  };\n",
              "\n",
              "  cancel.remove();\n",
              "\n",
              "  // Disable the input element since further picks are not allowed.\n",
              "  inputElement.disabled = true;\n",
              "\n",
              "  if (!files) {\n",
              "    return {\n",
              "      response: {\n",
              "        action: 'complete',\n",
              "      }\n",
              "    };\n",
              "  }\n",
              "\n",
              "  for (const file of files) {\n",
              "    const li = document.createElement('li');\n",
              "    li.append(span(file.name, {fontWeight: 'bold'}));\n",
              "    li.append(span(\n",
              "        `(${file.type || 'n/a'}) - ${file.size} bytes, ` +\n",
              "        `last modified: ${\n",
              "            file.lastModifiedDate ? file.lastModifiedDate.toLocaleDateString() :\n",
              "                                    'n/a'} - `));\n",
              "    const percent = span('0% done');\n",
              "    li.appendChild(percent);\n",
              "\n",
              "    outputElement.appendChild(li);\n",
              "\n",
              "    const fileDataPromise = new Promise((resolve) => {\n",
              "      const reader = new FileReader();\n",
              "      reader.onload = (e) => {\n",
              "        resolve(e.target.result);\n",
              "      };\n",
              "      reader.readAsArrayBuffer(file);\n",
              "    });\n",
              "    // Wait for the data to be ready.\n",
              "    let fileData = yield {\n",
              "      promise: fileDataPromise,\n",
              "      response: {\n",
              "        action: 'continue',\n",
              "      }\n",
              "    };\n",
              "\n",
              "    // Use a chunked sending to avoid message size limits. See b/62115660.\n",
              "    let position = 0;\n",
              "    do {\n",
              "      const length = Math.min(fileData.byteLength - position, MAX_PAYLOAD_SIZE);\n",
              "      const chunk = new Uint8Array(fileData, position, length);\n",
              "      position += length;\n",
              "\n",
              "      const base64 = btoa(String.fromCharCode.apply(null, chunk));\n",
              "      yield {\n",
              "        response: {\n",
              "          action: 'append',\n",
              "          file: file.name,\n",
              "          data: base64,\n",
              "        },\n",
              "      };\n",
              "\n",
              "      let percentDone = fileData.byteLength === 0 ?\n",
              "          100 :\n",
              "          Math.round((position / fileData.byteLength) * 100);\n",
              "      percent.textContent = `${percentDone}% done`;\n",
              "\n",
              "    } while (position < fileData.byteLength);\n",
              "  }\n",
              "\n",
              "  // All done.\n",
              "  yield {\n",
              "    response: {\n",
              "      action: 'complete',\n",
              "    }\n",
              "  };\n",
              "}\n",
              "\n",
              "scope.google = scope.google || {};\n",
              "scope.google.colab = scope.google.colab || {};\n",
              "scope.google.colab._files = {\n",
              "  _uploadFiles,\n",
              "  _uploadFilesContinue,\n",
              "};\n",
              "})(self);\n",
              "</script> "
            ]
          },
          "metadata": {}
        },
        {
          "output_type": "stream",
          "name": "stdout",
          "text": [
            "Saving test.mp3 to test.mp3\n"
          ]
        }
      ]
    },
    {
      "cell_type": "code",
      "metadata": {
        "id": "R3LqFPm9biYP",
        "outputId": "2d63ef82-8eae-448d-8ec4-12f31d7d1379",
        "colab": {
          "base_uri": "https://localhost:8080/",
          "height": 478
        }
      },
      "source": [
        "#@title Choose settings and run Laughter Detection\n",
        "\n",
        "#@markdown This will take a minute\n",
        "\n",
        "threshold = 0.5 #@param {type:\"slider\", min:0.1, max:1.0, step:0.1}\n",
        "min_length = 0.2 #@param {type:\"slider\", min:0.1, max:1.0, step:0.1}\n",
        "save_to_audio_files = True #@param {type:\"boolean\"}\n",
        "save_to_textgrid = False #@param {type:\"boolean\"}\n",
        "output_dir = 'laughter_detection_output' #@param {type:\"string\"}\n",
        "\n",
        "\n",
        "##### Load the audio file and features\n",
        "\n",
        "inference_dataset = data_loaders.SwitchBoardLaughterInferenceDataset(\n",
        "    audio_path=audio_path, feature_fn=feature_fn, sr=sample_rate)\n",
        "\n",
        "collate_fn=partial(audio_utils.pad_sequences_with_labels,\n",
        "                        expand_channel_dim=config['expand_channel_dim'])\n",
        "\n",
        "inference_generator = torch.utils.data.DataLoader(\n",
        "    inference_dataset, num_workers=4, batch_size=8, shuffle=False, collate_fn=collate_fn)\n",
        "\n",
        "\n",
        "##### Make Predictions\n",
        "\n",
        "probs = []\n",
        "for model_inputs, _ in tqdm(inference_generator):\n",
        "    x = torch.from_numpy(model_inputs).float().to(device)\n",
        "    preds = model(x).cpu().detach().numpy().squeeze()\n",
        "    if len(preds.shape)==0:\n",
        "        preds = [float(preds)]\n",
        "    else:\n",
        "        preds = list(preds)\n",
        "    probs += preds\n",
        "probs = np.array(probs)\n",
        "\n",
        "file_length = audio_utils.get_audio_length(audio_path)\n",
        "\n",
        "fps = len(probs)/float(file_length)\n",
        "\n",
        "probs = laugh_segmenter.lowpass(probs)\n",
        "instances = laugh_segmenter.get_laughter_instances(probs, threshold=threshold, min_length=float(min_length), fps=fps)\n",
        "\n",
        "print(); print(\"found %d laughs.\" % (len (instances)))\n",
        "\n",
        "if len(instances) > 0:\n",
        "    full_res_y, full_res_sr = librosa.load(audio_path,sr=44100)\n",
        "    wav_paths = []\n",
        "    maxv = np.iinfo(np.int16).max\n",
        "\n",
        "    if save_to_audio_files:\n",
        "        if output_dir is None:\n",
        "            raise Exception(\"Need to specify an output directory to save audio files\")\n",
        "        else:\n",
        "            os.system(f\"mkdir -p {output_dir}\")\n",
        "            for index, instance in enumerate(instances):\n",
        "                laughs = laugh_segmenter.cut_laughter_segments([instance],full_res_y,full_res_sr)\n",
        "                wav_path = output_dir + \"/laugh_\" + str(index) + \".wav\"\n",
        "                scipy.io.wavfile.write(wav_path, full_res_sr, (laughs * maxv).astype(np.int16))\n",
        "                wav_paths.append(wav_path)\n",
        "            print(laugh_segmenter.format_outputs(instances, wav_paths))\n",
        "\n",
        "    if save_to_textgrid:\n",
        "        laughs = [{'start': i[0], 'end': i[1]} for i in instances]\n",
        "        tg = tgt.TextGrid()\n",
        "        laughs_tier = tgt.IntervalTier(name='laughter', objects=[\n",
        "        tgt.Interval(l['start'], l['end'], 'laugh') for l in laughs])\n",
        "        tg.add_tier(laughs_tier)\n",
        "        fname = os.path.splitext(os.path.basename(audio_path))[0]\n",
        "        tgt.write_to_file(tg, os.path.join(output_dir, fname + '_laughter.TextGrid'))\n",
        "\n",
        "        print('Saved laughter segments in {}'.format(\n",
        "            os.path.join(output_dir, fname + '_laughter.TextGrid')))"
      ],
      "execution_count": 10,
      "outputs": [
        {
          "output_type": "error",
          "ename": "TypeError",
          "evalue": "melspectrogram() takes 0 positional arguments but 2 positional arguments (and 1 keyword-only argument) were given",
          "traceback": [
            "\u001b[0;31m---------------------------------------------------------------------------\u001b[0m",
            "\u001b[0;31mTypeError\u001b[0m                                 Traceback (most recent call last)",
            "\u001b[0;32m<ipython-input-10-d786ed2041b6>\u001b[0m in \u001b[0;36m<cell line: 0>\u001b[0;34m()\u001b[0m\n\u001b[1;32m     12\u001b[0m \u001b[0;31m##### Load the audio file and features\u001b[0m\u001b[0;34m\u001b[0m\u001b[0;34m\u001b[0m\u001b[0m\n\u001b[1;32m     13\u001b[0m \u001b[0;34m\u001b[0m\u001b[0m\n\u001b[0;32m---> 14\u001b[0;31m inference_dataset = data_loaders.SwitchBoardLaughterInferenceDataset(\n\u001b[0m\u001b[1;32m     15\u001b[0m     audio_path=audio_path, feature_fn=feature_fn, sr=sample_rate)\n\u001b[1;32m     16\u001b[0m \u001b[0;34m\u001b[0m\u001b[0m\n",
            "\u001b[0;32m/content/laughter-detection/./utils/data_loaders.py\u001b[0m in \u001b[0;36m__init__\u001b[0;34m(self, audio_path, feature_fn, sr, n_frames)\u001b[0m\n\u001b[1;32m    189\u001b[0m \u001b[0;34m\u001b[0m\u001b[0m\n\u001b[1;32m    190\u001b[0m         \u001b[0mself\u001b[0m\u001b[0;34m.\u001b[0m\u001b[0my\u001b[0m\u001b[0;34m,\u001b[0m \u001b[0m_\u001b[0m \u001b[0;34m=\u001b[0m \u001b[0mlibrosa\u001b[0m\u001b[0;34m.\u001b[0m\u001b[0mload\u001b[0m\u001b[0;34m(\u001b[0m\u001b[0maudio_path\u001b[0m\u001b[0;34m,\u001b[0m \u001b[0msr\u001b[0m\u001b[0;34m=\u001b[0m\u001b[0msr\u001b[0m\u001b[0;34m)\u001b[0m\u001b[0;34m\u001b[0m\u001b[0;34m\u001b[0m\u001b[0m\n\u001b[0;32m--> 191\u001b[0;31m         \u001b[0mself\u001b[0m\u001b[0;34m.\u001b[0m\u001b[0mfeatures\u001b[0m \u001b[0;34m=\u001b[0m \u001b[0mfeature_fn\u001b[0m\u001b[0;34m(\u001b[0m\u001b[0my\u001b[0m\u001b[0;34m=\u001b[0m\u001b[0mself\u001b[0m\u001b[0;34m.\u001b[0m\u001b[0my\u001b[0m\u001b[0;34m,\u001b[0m\u001b[0msr\u001b[0m\u001b[0;34m=\u001b[0m\u001b[0mself\u001b[0m\u001b[0;34m.\u001b[0m\u001b[0msr\u001b[0m\u001b[0;34m)\u001b[0m\u001b[0;34m\u001b[0m\u001b[0;34m\u001b[0m\u001b[0m\n\u001b[0m\u001b[1;32m    192\u001b[0m \u001b[0;34m\u001b[0m\u001b[0m\n\u001b[1;32m    193\u001b[0m     \u001b[0;32mdef\u001b[0m \u001b[0m__len__\u001b[0m\u001b[0;34m(\u001b[0m\u001b[0mself\u001b[0m\u001b[0;34m)\u001b[0m\u001b[0;34m:\u001b[0m\u001b[0;34m\u001b[0m\u001b[0;34m\u001b[0m\u001b[0m\n",
            "\u001b[0;32m/content/laughter-detection/./utils/audio_utils.py\u001b[0m in \u001b[0;36mfeaturize_melspec\u001b[0;34m(f, offset, duration, y, sr, hop_length, augment_fn, spec_augment_fn, **kwargs)\u001b[0m\n\u001b[1;32m    226\u001b[0m     \u001b[0;32mif\u001b[0m \u001b[0maugment_fn\u001b[0m \u001b[0;32mis\u001b[0m \u001b[0;32mnot\u001b[0m \u001b[0;32mNone\u001b[0m\u001b[0;34m:\u001b[0m\u001b[0;34m\u001b[0m\u001b[0;34m\u001b[0m\u001b[0m\n\u001b[1;32m    227\u001b[0m         \u001b[0my\u001b[0m \u001b[0;34m=\u001b[0m \u001b[0maugment_fn\u001b[0m\u001b[0;34m(\u001b[0m\u001b[0my\u001b[0m\u001b[0;34m)\u001b[0m\u001b[0;34m\u001b[0m\u001b[0;34m\u001b[0m\u001b[0m\n\u001b[0;32m--> 228\u001b[0;31m     \u001b[0mS\u001b[0m \u001b[0;34m=\u001b[0m \u001b[0mlibrosa\u001b[0m\u001b[0;34m.\u001b[0m\u001b[0mfeature\u001b[0m\u001b[0;34m.\u001b[0m\u001b[0mmelspectrogram\u001b[0m\u001b[0;34m(\u001b[0m\u001b[0my\u001b[0m\u001b[0;34m,\u001b[0m \u001b[0msr\u001b[0m\u001b[0;34m,\u001b[0m \u001b[0mhop_length\u001b[0m\u001b[0;34m=\u001b[0m\u001b[0mhop_length\u001b[0m\u001b[0;34m)\u001b[0m\u001b[0;34m.\u001b[0m\u001b[0mT\u001b[0m\u001b[0;34m\u001b[0m\u001b[0;34m\u001b[0m\u001b[0m\n\u001b[0m\u001b[1;32m    229\u001b[0m     \u001b[0mS\u001b[0m \u001b[0;34m=\u001b[0m \u001b[0mlibrosa\u001b[0m\u001b[0;34m.\u001b[0m\u001b[0mamplitude_to_db\u001b[0m\u001b[0;34m(\u001b[0m\u001b[0mS\u001b[0m\u001b[0;34m,\u001b[0m \u001b[0mref\u001b[0m\u001b[0;34m=\u001b[0m\u001b[0mnp\u001b[0m\u001b[0;34m.\u001b[0m\u001b[0mmax\u001b[0m\u001b[0;34m)\u001b[0m\u001b[0;34m\u001b[0m\u001b[0;34m\u001b[0m\u001b[0m\n\u001b[1;32m    230\u001b[0m     \u001b[0;32mif\u001b[0m \u001b[0mspec_augment_fn\u001b[0m \u001b[0;32mis\u001b[0m \u001b[0;32mnot\u001b[0m \u001b[0;32mNone\u001b[0m\u001b[0;34m:\u001b[0m\u001b[0;34m\u001b[0m\u001b[0;34m\u001b[0m\u001b[0m\n",
            "\u001b[0;31mTypeError\u001b[0m: melspectrogram() takes 0 positional arguments but 2 positional arguments (and 1 keyword-only argument) were given"
          ]
        }
      ]
    },
    {
      "cell_type": "code",
      "metadata": {
        "id": "7SujoMnTRxjb"
      },
      "source": [
        "#@title Listen to the detected laughter\n",
        "\n",
        "import IPython\n",
        "from IPython.display import Audio\n",
        "detected_laughs = librosa.util.find_files(output_dir)\n",
        "for laugh in detected_laughs:\n",
        "  IPython.display.display(Audio(laugh))"
      ],
      "execution_count": null,
      "outputs": []
    },
    {
      "cell_type": "code",
      "metadata": {
        "id": "69cuYnOGfON9"
      },
      "source": [],
      "execution_count": null,
      "outputs": []
    }
  ]
}